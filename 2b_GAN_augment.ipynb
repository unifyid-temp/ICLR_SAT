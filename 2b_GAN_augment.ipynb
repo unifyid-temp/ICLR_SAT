{
  "nbformat": 4,
  "nbformat_minor": 0,
  "metadata": {
    "colab": {
      "name": "2b_GAN_augment.ipynb",
      "version": "0.3.2",
      "provenance": []
    },
    "kernelspec": {
      "name": "python3",
      "display_name": "Python 3"
    },
    "accelerator": "GPU"
  },
  "cells": [
    {
      "metadata": {
        "id": "I7HMyW366Xja",
        "colab_type": "text"
      },
      "cell_type": "markdown",
      "source": [
        "https://github.com/eriklindernoren/Keras-GAN/blob/master/bgan/bgan.py"
      ]
    },
    {
      "metadata": {
        "id": "h7ONFDeH8ca7",
        "colab_type": "code",
        "outputId": "21fc9e2b-2d95-42ac-fbc0-ae803c00ef79",
        "colab": {
          "base_uri": "https://localhost:8080/",
          "height": 34
        }
      },
      "cell_type": "code",
      "source": [
        "from google.colab import drive\n",
        "drive.mount('/gdrive')\n",
        "import os\n",
        "os.chdir('/gdrive/My Drive/Colab Notebooks/Uni_MNIST')"
      ],
      "execution_count": 0,
      "outputs": [
        {
          "output_type": "stream",
          "text": [
            "Drive already mounted at /gdrive; to attempt to forcibly remount, call drive.mount(\"/gdrive\", force_remount=True).\n"
          ],
          "name": "stdout"
        }
      ]
    },
    {
      "metadata": {
        "id": "XRfXF6pC6Lm6",
        "colab_type": "code",
        "outputId": "4c0e7e6e-a9a3-4a8a-e53a-37757a887eee",
        "colab": {
          "base_uri": "https://localhost:8080/",
          "height": 34
        }
      },
      "cell_type": "code",
      "source": [
        "from __future__ import print_function, division\n",
        "\n",
        "from keras.datasets import mnist\n",
        "from keras.layers import Input, Dense, Reshape, Flatten, Dropout\n",
        "from keras.layers import BatchNormalization, Activation, ZeroPadding2D\n",
        "from keras.layers.advanced_activations import LeakyReLU\n",
        "from keras.layers.convolutional import UpSampling2D, Conv2D\n",
        "from keras.models import Sequential, Model\n",
        "from keras.optimizers import Adam\n",
        "import keras.backend as K\n",
        "\n",
        "import matplotlib.pyplot as plt\n",
        "\n",
        "import sys\n",
        "\n",
        "import numpy as np\n",
        "# np.random.seed(0)"
      ],
      "execution_count": 0,
      "outputs": [
        {
          "output_type": "stream",
          "text": [
            "Using TensorFlow backend.\n"
          ],
          "name": "stderr"
        }
      ]
    },
    {
      "metadata": {
        "id": "TFhltR-Y0rTY",
        "colab_type": "code",
        "colab": {}
      },
      "cell_type": "code",
      "source": [
        "class BGAN():\n",
        "    \"\"\"Reference: https://wiseodd.github.io/techblog/2017/03/07/boundary-seeking-gan/\"\"\"\n",
        "    def __init__(self):\n",
        "        self.img_rows = 28\n",
        "        self.img_cols = 28\n",
        "        self.channels = 1\n",
        "        self.img_shape = (self.img_rows, self.img_cols, self.channels)\n",
        "        self.latent_dim = 100\n",
        "\n",
        "        optimizer = Adam(0.0002, 0.5)\n",
        "\n",
        "        # Build and compile the discriminator\n",
        "        self.discriminator = self.build_discriminator()\n",
        "        self.discriminator.compile(loss='binary_crossentropy',\n",
        "            optimizer=optimizer,\n",
        "            metrics=['accuracy'])\n",
        "\n",
        "        # Build the generator\n",
        "        self.generator = self.build_generator()\n",
        "\n",
        "        # The generator takes noise as input and generated imgs\n",
        "        z = Input(shape=(self.latent_dim,))\n",
        "        img = self.generator(z)\n",
        "\n",
        "        # For the combined model we will only train the generator\n",
        "        self.discriminator.trainable = False\n",
        "\n",
        "        # The valid takes generated images as input and determines validity\n",
        "        valid = self.discriminator(img)\n",
        "\n",
        "        # The combined model  (stacked generator and discriminator)\n",
        "        # Trains the generator to fool the discriminator\n",
        "        self.combined = Model(z, valid)\n",
        "        self.combined.compile(loss=self.boundary_loss, optimizer=optimizer)\n",
        "\n",
        "    def build_generator(self):\n",
        "\n",
        "        model = Sequential()\n",
        "\n",
        "        model.add(Dense(256, input_dim=self.latent_dim))\n",
        "        model.add(LeakyReLU(alpha=0.2))\n",
        "        model.add(BatchNormalization(momentum=0.8))\n",
        "        model.add(Dense(512))\n",
        "        model.add(LeakyReLU(alpha=0.2))\n",
        "        model.add(BatchNormalization(momentum=0.8))\n",
        "        model.add(Dense(1024))\n",
        "        model.add(LeakyReLU(alpha=0.2))\n",
        "        model.add(BatchNormalization(momentum=0.8))\n",
        "        model.add(Dense(np.prod(self.img_shape), activation='tanh'))\n",
        "        model.add(Reshape(self.img_shape))\n",
        "\n",
        "        model.summary()\n",
        "\n",
        "        noise = Input(shape=(self.latent_dim,))\n",
        "        img = model(noise)\n",
        "\n",
        "        return Model(noise, img)\n",
        "\n",
        "    def build_discriminator(self):\n",
        "\n",
        "        model = Sequential()\n",
        "\n",
        "        model.add(Flatten(input_shape=self.img_shape))\n",
        "        model.add(Dense(512))\n",
        "        model.add(LeakyReLU(alpha=0.2))\n",
        "        model.add(Dense(256))\n",
        "        model.add(LeakyReLU(alpha=0.2))\n",
        "        model.add(Dense(1, activation='sigmoid'))\n",
        "        model.summary()\n",
        "\n",
        "        img = Input(shape=self.img_shape)\n",
        "        validity = model(img)\n",
        "\n",
        "        return Model(img, validity)\n",
        "\n",
        "    def boundary_loss(self, y_true, y_pred):\n",
        "        \"\"\"\n",
        "        Boundary seeking loss.\n",
        "        Reference: https://wiseodd.github.io/techblog/2017/03/07/boundary-seeking-gan/\n",
        "        \"\"\"\n",
        "        return 0.5 * K.mean((K.log(y_pred) - K.log(1 - y_pred))**2)\n",
        "\n",
        "    def train(self, epochs, batch_size=128, sample_interval=50):\n",
        "\n",
        "        # Load the dataset\n",
        "#         (X_train, _), (_, _) = mnist.load_data()\n",
        "        X_elastic_all_20=np.load('X_elastic_all_20.npy')\n",
        "        X_elastic_kannada=X_elastic_all_20[:,0:10,:,:,0]\n",
        "        X_train=X_elastic_kannada.reshape(60000, 28, 28)\n",
        "        # Rescale -1 to 1\n",
        "        X_train = X_train / 127.5 - 1.\n",
        "        X_train = np.expand_dims(X_train, axis=3)\n",
        "\n",
        "        # Adversarial ground truths\n",
        "        valid = np.ones((batch_size, 1))\n",
        "        fake = np.zeros((batch_size, 1))\n",
        "\n",
        "        for epoch in range(epochs):\n",
        "\n",
        "            # ---------------------\n",
        "            #  Train Discriminator\n",
        "            # ---------------------\n",
        "\n",
        "            # Select a random batch of images\n",
        "            idx = np.random.randint(0, X_train.shape[0], batch_size)\n",
        "            imgs = X_train[idx]\n",
        "\n",
        "            noise = np.random.normal(0, 1, (batch_size, self.latent_dim))\n",
        "\n",
        "            # Generate a batch of new images\n",
        "            gen_imgs = self.generator.predict(noise)\n",
        "\n",
        "            # Train the discriminator\n",
        "            d_loss_real = self.discriminator.train_on_batch(imgs, valid)\n",
        "            d_loss_fake = self.discriminator.train_on_batch(gen_imgs, fake)\n",
        "            d_loss = 0.5 * np.add(d_loss_real, d_loss_fake)\n",
        "\n",
        "\n",
        "            # ---------------------\n",
        "            #  Train Generator\n",
        "            # ---------------------\n",
        "\n",
        "            g_loss = self.combined.train_on_batch(noise, valid)\n",
        "            if(epoch < 1000):\n",
        "              sample_interval= 50\n",
        "            else:\n",
        "              sample_interval=500\n",
        "\n",
        "            \n",
        "\n",
        "            # If at save interval => save generated image samples\n",
        "            if (epoch % sample_interval == 0) :\n",
        "                # Plot the progress\n",
        "                print (\"%d [D loss: %f, acc.: %.2f%%] [G loss: %f]\" % (epoch, d_loss[0], 100*d_loss[1], g_loss))\n",
        "                self.sample_images(epoch)\n",
        "        \n",
        "\n",
        "\n",
        "    def sample_images(self, epoch):\n",
        "        r, c = 8, 8\n",
        "        noise = np.random.normal(0, 1, (r * c, self.latent_dim))\n",
        "        gen_imgs = self.generator.predict(noise)\n",
        "        # Rescale images 0 - 1\n",
        "        gen_imgs = 0.5 * gen_imgs + 0.5\n",
        "\n",
        "        fig, axs = plt.subplots(r, c)\n",
        "        cnt = 0\n",
        "        for i in range(r):\n",
        "            for j in range(c):\n",
        "                axs[i,j].imshow(gen_imgs[cnt, :,:,0], cmap='gray')\n",
        "                axs[i,j].axis('off')\n",
        "                cnt += 1\n",
        "        fig.savefig(\"images_GAN_elastic_augment/mnist_%d.png\" % epoch)\n",
        "        plt.close()\n"
      ],
      "execution_count": 0,
      "outputs": []
    },
    {
      "metadata": {
        "id": "CFcYVWoZ7y-2",
        "colab_type": "code",
        "outputId": "b6b4e1c8-8969-4428-a32b-c524dcf44d0b",
        "colab": {
          "base_uri": "https://localhost:8080/",
          "height": 2418
        }
      },
      "cell_type": "code",
      "source": [
        "bgan = BGAN()\n",
        "bgan.train(epochs=30000, batch_size=32, sample_interval=1000)"
      ],
      "execution_count": 0,
      "outputs": [
        {
          "output_type": "stream",
          "text": [
            "WARNING:tensorflow:From /usr/local/lib/python3.6/dist-packages/tensorflow/python/framework/op_def_library.py:263: colocate_with (from tensorflow.python.framework.ops) is deprecated and will be removed in a future version.\n",
            "Instructions for updating:\n",
            "Colocations handled automatically by placer.\n",
            "_________________________________________________________________\n",
            "Layer (type)                 Output Shape              Param #   \n",
            "=================================================================\n",
            "flatten_1 (Flatten)          (None, 784)               0         \n",
            "_________________________________________________________________\n",
            "dense_1 (Dense)              (None, 512)               401920    \n",
            "_________________________________________________________________\n",
            "leaky_re_lu_1 (LeakyReLU)    (None, 512)               0         \n",
            "_________________________________________________________________\n",
            "dense_2 (Dense)              (None, 256)               131328    \n",
            "_________________________________________________________________\n",
            "leaky_re_lu_2 (LeakyReLU)    (None, 256)               0         \n",
            "_________________________________________________________________\n",
            "dense_3 (Dense)              (None, 1)                 257       \n",
            "=================================================================\n",
            "Total params: 533,505\n",
            "Trainable params: 533,505\n",
            "Non-trainable params: 0\n",
            "_________________________________________________________________\n",
            "_________________________________________________________________\n",
            "Layer (type)                 Output Shape              Param #   \n",
            "=================================================================\n",
            "dense_4 (Dense)              (None, 256)               25856     \n",
            "_________________________________________________________________\n",
            "leaky_re_lu_3 (LeakyReLU)    (None, 256)               0         \n",
            "_________________________________________________________________\n",
            "batch_normalization_1 (Batch (None, 256)               1024      \n",
            "_________________________________________________________________\n",
            "dense_5 (Dense)              (None, 512)               131584    \n",
            "_________________________________________________________________\n",
            "leaky_re_lu_4 (LeakyReLU)    (None, 512)               0         \n",
            "_________________________________________________________________\n",
            "batch_normalization_2 (Batch (None, 512)               2048      \n",
            "_________________________________________________________________\n",
            "dense_6 (Dense)              (None, 1024)              525312    \n",
            "_________________________________________________________________\n",
            "leaky_re_lu_5 (LeakyReLU)    (None, 1024)              0         \n",
            "_________________________________________________________________\n",
            "batch_normalization_3 (Batch (None, 1024)              4096      \n",
            "_________________________________________________________________\n",
            "dense_7 (Dense)              (None, 784)               803600    \n",
            "_________________________________________________________________\n",
            "reshape_1 (Reshape)          (None, 28, 28, 1)         0         \n",
            "=================================================================\n",
            "Total params: 1,493,520\n",
            "Trainable params: 1,489,936\n",
            "Non-trainable params: 3,584\n",
            "_________________________________________________________________\n",
            "WARNING:tensorflow:From /usr/local/lib/python3.6/dist-packages/tensorflow/python/ops/math_ops.py:3066: to_int32 (from tensorflow.python.ops.math_ops) is deprecated and will be removed in a future version.\n",
            "Instructions for updating:\n",
            "Use tf.cast instead.\n"
          ],
          "name": "stdout"
        },
        {
          "output_type": "stream",
          "text": [
            "/usr/local/lib/python3.6/dist-packages/keras/engine/training.py:490: UserWarning: Discrepancy between trainable weights and collected trainable weights, did you set `model.trainable` without calling `model.compile` after ?\n",
            "  'Discrepancy between trainable weights and collected trainable'\n"
          ],
          "name": "stderr"
        },
        {
          "output_type": "stream",
          "text": [
            "0 [D loss: 0.676281, acc.: 48.44%] [G loss: 0.153739]\n",
            "50 [D loss: 0.018315, acc.: 100.00%] [G loss: 7.746111]\n",
            "100 [D loss: 0.009219, acc.: 100.00%] [G loss: 11.382764]\n",
            "150 [D loss: 0.945374, acc.: 56.25%] [G loss: 2.537543]\n",
            "200 [D loss: 1.605919, acc.: 32.81%] [G loss: 1.431747]\n",
            "250 [D loss: 0.485414, acc.: 70.31%] [G loss: 3.248221]\n",
            "300 [D loss: 0.586311, acc.: 64.06%] [G loss: 0.600166]\n",
            "350 [D loss: 0.524336, acc.: 81.25%] [G loss: 0.509155]\n",
            "400 [D loss: 0.559684, acc.: 79.69%] [G loss: 0.247542]\n",
            "450 [D loss: 0.566085, acc.: 75.00%] [G loss: 0.213363]\n",
            "500 [D loss: 0.526688, acc.: 82.81%] [G loss: 0.327958]\n",
            "550 [D loss: 0.535505, acc.: 78.12%] [G loss: 0.408033]\n",
            "600 [D loss: 0.505248, acc.: 79.69%] [G loss: 0.423488]\n",
            "650 [D loss: 0.456848, acc.: 82.81%] [G loss: 0.513381]\n",
            "700 [D loss: 0.420076, acc.: 85.94%] [G loss: 0.676422]\n",
            "750 [D loss: 0.423550, acc.: 84.38%] [G loss: 0.721963]\n",
            "800 [D loss: 0.435159, acc.: 85.94%] [G loss: 0.956346]\n",
            "850 [D loss: 0.330263, acc.: 95.31%] [G loss: 1.445722]\n",
            "900 [D loss: 0.453835, acc.: 81.25%] [G loss: 0.988363]\n",
            "950 [D loss: 0.428550, acc.: 78.12%] [G loss: 1.199469]\n",
            "1000 [D loss: 0.593642, acc.: 70.31%] [G loss: 0.647182]\n",
            "1500 [D loss: 0.429144, acc.: 75.00%] [G loss: 1.391567]\n",
            "2000 [D loss: 0.433836, acc.: 76.56%] [G loss: 1.266618]\n",
            "2500 [D loss: 0.377502, acc.: 82.81%] [G loss: 1.064856]\n",
            "3000 [D loss: 0.365447, acc.: 87.50%] [G loss: 1.524587]\n",
            "3500 [D loss: 0.371638, acc.: 85.94%] [G loss: 1.698793]\n",
            "4000 [D loss: 0.480422, acc.: 78.12%] [G loss: 1.303818]\n",
            "4500 [D loss: 0.505173, acc.: 68.75%] [G loss: 1.541304]\n",
            "5000 [D loss: 0.361130, acc.: 82.81%] [G loss: 1.398153]\n",
            "5500 [D loss: 0.429257, acc.: 76.56%] [G loss: 1.461892]\n",
            "6000 [D loss: 0.448841, acc.: 78.12%] [G loss: 1.273855]\n",
            "6500 [D loss: 0.352874, acc.: 85.94%] [G loss: 1.397066]\n",
            "7000 [D loss: 0.587644, acc.: 67.19%] [G loss: 0.569555]\n",
            "7500 [D loss: 0.512226, acc.: 78.12%] [G loss: 1.364037]\n",
            "8000 [D loss: 0.469165, acc.: 75.00%] [G loss: 0.978091]\n",
            "8500 [D loss: 0.374940, acc.: 84.38%] [G loss: 1.268407]\n",
            "9000 [D loss: 0.483590, acc.: 79.69%] [G loss: 0.986310]\n",
            "9500 [D loss: 0.445266, acc.: 81.25%] [G loss: 1.198718]\n",
            "10000 [D loss: 0.289183, acc.: 84.38%] [G loss: 1.534143]\n",
            "10500 [D loss: 0.451942, acc.: 78.12%] [G loss: 1.178103]\n",
            "11000 [D loss: 0.539862, acc.: 70.31%] [G loss: 1.001965]\n",
            "11500 [D loss: 0.352070, acc.: 82.81%] [G loss: 1.067911]\n",
            "12000 [D loss: 0.396464, acc.: 81.25%] [G loss: 1.010326]\n",
            "12500 [D loss: 0.388925, acc.: 79.69%] [G loss: 1.317463]\n",
            "13000 [D loss: 0.452817, acc.: 81.25%] [G loss: 1.033323]\n",
            "13500 [D loss: 0.442425, acc.: 81.25%] [G loss: 0.991681]\n",
            "14000 [D loss: 0.341181, acc.: 85.94%] [G loss: 1.140360]\n",
            "14500 [D loss: 0.411257, acc.: 82.81%] [G loss: 1.212605]\n",
            "15000 [D loss: 0.424397, acc.: 81.25%] [G loss: 1.035352]\n",
            "15500 [D loss: 0.438427, acc.: 81.25%] [G loss: 1.074132]\n",
            "16000 [D loss: 0.515408, acc.: 78.12%] [G loss: 0.921110]\n",
            "16500 [D loss: 0.251878, acc.: 93.75%] [G loss: 1.384219]\n",
            "17000 [D loss: 0.303131, acc.: 89.06%] [G loss: 1.480497]\n",
            "17500 [D loss: 0.373866, acc.: 84.38%] [G loss: 0.920496]\n",
            "18000 [D loss: 0.370172, acc.: 82.81%] [G loss: 0.973547]\n",
            "18500 [D loss: 0.417632, acc.: 79.69%] [G loss: 1.262037]\n",
            "19000 [D loss: 0.457716, acc.: 79.69%] [G loss: 0.905401]\n",
            "19500 [D loss: 0.389080, acc.: 81.25%] [G loss: 1.074138]\n",
            "20000 [D loss: 0.234626, acc.: 92.19%] [G loss: 1.276279]\n",
            "20500 [D loss: 0.385659, acc.: 82.81%] [G loss: 0.895760]\n",
            "21000 [D loss: 0.408121, acc.: 85.94%] [G loss: 1.132556]\n",
            "21500 [D loss: 0.453709, acc.: 79.69%] [G loss: 1.137432]\n",
            "22000 [D loss: 0.419185, acc.: 81.25%] [G loss: 1.207947]\n",
            "22500 [D loss: 0.363187, acc.: 85.94%] [G loss: 1.034580]\n",
            "23000 [D loss: 0.355175, acc.: 85.94%] [G loss: 1.226163]\n",
            "23500 [D loss: 0.457793, acc.: 81.25%] [G loss: 1.096105]\n",
            "24000 [D loss: 0.360030, acc.: 84.38%] [G loss: 1.099965]\n",
            "24500 [D loss: 0.289760, acc.: 89.06%] [G loss: 1.703029]\n",
            "25000 [D loss: 0.377521, acc.: 82.81%] [G loss: 1.230850]\n",
            "25500 [D loss: 0.304426, acc.: 87.50%] [G loss: 1.120079]\n",
            "26000 [D loss: 0.393768, acc.: 82.81%] [G loss: 1.040654]\n",
            "26500 [D loss: 0.285821, acc.: 90.62%] [G loss: 1.490004]\n",
            "27000 [D loss: 0.483818, acc.: 78.12%] [G loss: 0.859831]\n",
            "27500 [D loss: 0.353494, acc.: 87.50%] [G loss: 0.807126]\n",
            "28000 [D loss: 0.336020, acc.: 85.94%] [G loss: 1.041447]\n",
            "28500 [D loss: 0.392649, acc.: 81.25%] [G loss: 0.785685]\n",
            "29000 [D loss: 0.338385, acc.: 85.94%] [G loss: 1.119963]\n",
            "29500 [D loss: 0.394762, acc.: 82.81%] [G loss: 1.135026]\n"
          ],
          "name": "stdout"
        }
      ]
    },
    {
      "metadata": {
        "id": "tE1k6wFu8zjq",
        "colab_type": "code",
        "outputId": "f47b7427-cc3b-4bb9-b710-efd7b9b48f08",
        "colab": {
          "base_uri": "https://localhost:8080/",
          "height": 350
        }
      },
      "cell_type": "code",
      "source": [
        "noise = np.random.normal(0, 1, (20, bgan.latent_dim))\n",
        "gen_imgs = bgan.generator.predict(noise)\n",
        "for i in range(20):\n",
        "  plt.subplot(4,5,i+1)\n",
        "  plt.imshow(gen_imgs[i,:,:,0])"
      ],
      "execution_count": 0,
      "outputs": [
        {
          "output_type": "display_data",
          "data": {
            "image/png": "[encoded data removed]",
            "text/plain": [
              "<Figure size 576x396 with 20 Axes>"
            ]
          },
          "metadata": {
            "tags": []
          }
        }
      ]
    },
    {
      "metadata": {
        "id": "5wvZaWVlKimv",
        "colab_type": "code",
        "colab": {}
      },
      "cell_type": "code",
      "source": [
        "import dill\n",
        "dill.dump_session('bigan_kmnist.pkl')"
      ],
      "execution_count": 0,
      "outputs": []
    }
  ]
}