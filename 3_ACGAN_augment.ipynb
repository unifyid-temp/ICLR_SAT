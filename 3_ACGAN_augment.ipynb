{
  "nbformat": 4,
  "nbformat_minor": 0,
  "metadata": {
    "colab": {
      "name": "3_ACGAN_augment.ipynb",
      "version": "0.3.2",
      "provenance": []
    },
    "kernelspec": {
      "name": "python3",
      "display_name": "Python 3"
    },
    "accelerator": "GPU"
  },
  "cells": [
    {
      "metadata": {
        "id": "I7HMyW366Xja",
        "colab_type": "text"
      },
      "cell_type": "markdown",
      "source": [
        "https://github.com/keras-team/keras/blob/master/examples/mnist_acgan.py"
      ]
    },
    {
      "metadata": {
        "id": "h7ONFDeH8ca7",
        "colab_type": "code",
        "outputId": "e3e11bad-4a74-4051-ee25-5530994c2157",
        "colab": {
          "base_uri": "https://localhost:8080/",
          "height": 34
        }
      },
      "cell_type": "code",
      "source": [
        "from google.colab import drive\n",
        "drive.mount('/gdrive')\n",
        "import os\n",
        "os.chdir('/gdrive/My Drive/Colab Notebooks/Uni_MNIST')"
      ],
      "execution_count": 0,
      "outputs": [
        {
          "output_type": "stream",
          "text": [
            "Drive already mounted at /gdrive; to attempt to forcibly remount, call drive.mount(\"/gdrive\", force_remount=True).\n"
          ],
          "name": "stdout"
        }
      ]
    },
    {
      "metadata": {
        "id": "XRfXF6pC6Lm6",
        "colab_type": "code",
        "outputId": "102f9658-089e-4c40-b8ec-b6c1ea1bf15f",
        "colab": {
          "base_uri": "https://localhost:8080/",
          "height": 34
        }
      },
      "cell_type": "code",
      "source": [
        "from __future__ import print_function\n",
        "\n",
        "from collections import defaultdict\n",
        "try:\n",
        "    import cPickle as pickle\n",
        "except ImportError:\n",
        "    import pickle\n",
        "from PIL import Image\n",
        "\n",
        "from six.moves import range\n",
        "\n",
        "from keras.datasets import mnist\n",
        "from keras import layers\n",
        "from keras.layers import Input, Dense, Reshape, Flatten, Embedding, Dropout\n",
        "from keras.layers import BatchNormalization\n",
        "from keras.layers.advanced_activations import LeakyReLU\n",
        "from keras.layers.convolutional import Conv2DTranspose, Conv2D\n",
        "from keras.models import Sequential, Model\n",
        "from keras.optimizers import Adam\n",
        "from keras.utils.generic_utils import Progbar\n",
        "import numpy as np\n",
        "\n",
        "np.random.seed(1337)\n",
        "num_classes = 10\n"
      ],
      "execution_count": 0,
      "outputs": [
        {
          "output_type": "stream",
          "text": [
            "Using TensorFlow backend.\n"
          ],
          "name": "stderr"
        }
      ]
    },
    {
      "metadata": {
        "id": "TFhltR-Y0rTY",
        "colab_type": "code",
        "colab": {}
      },
      "cell_type": "code",
      "source": [
        "def build_generator(latent_size):\n",
        "    # we will map a pair of (z, L), where z is a latent vector and L is a\n",
        "    # label drawn from P_c, to image space (..., 28, 28, 1)\n",
        "    cnn = Sequential()\n",
        "\n",
        "    cnn.add(Dense(3 * 3 * 384, input_dim=latent_size, activation='relu'))\n",
        "    cnn.add(Reshape((3, 3, 384)))\n",
        "\n",
        "    # upsample to (7, 7, ...)\n",
        "    cnn.add(Conv2DTranspose(192, 5, strides=1, padding='valid',\n",
        "                            activation='relu',\n",
        "                            kernel_initializer='glorot_normal'))\n",
        "    cnn.add(BatchNormalization())\n",
        "\n",
        "    # upsample to (14, 14, ...)\n",
        "    cnn.add(Conv2DTranspose(96, 5, strides=2, padding='same',\n",
        "                            activation='relu',\n",
        "                            kernel_initializer='glorot_normal'))\n",
        "    cnn.add(BatchNormalization())\n",
        "\n",
        "    # upsample to (28, 28, ...)\n",
        "    cnn.add(Conv2DTranspose(1, 5, strides=2, padding='same',\n",
        "                            activation='tanh',\n",
        "                            kernel_initializer='glorot_normal'))\n",
        "\n",
        "    # this is the z space commonly referred to in GAN papers\n",
        "    latent = Input(shape=(latent_size, ))\n",
        "\n",
        "    # this will be our label\n",
        "    image_class = Input(shape=(1,), dtype='int32')\n",
        "\n",
        "    cls = Embedding(num_classes, latent_size,\n",
        "                    embeddings_initializer='glorot_normal')(image_class)\n",
        "\n",
        "    # hadamard product between z-space and a class conditional embedding\n",
        "    h = layers.multiply([latent, cls])\n",
        "\n",
        "    fake_image = cnn(h)\n",
        "\n",
        "    return Model([latent, image_class], fake_image)\n",
        "\n",
        "\n",
        "def build_discriminator():\n",
        "    # build a relatively standard conv net, with LeakyReLUs as suggested in\n",
        "    # the reference paper\n",
        "    cnn = Sequential()\n",
        "\n",
        "    cnn.add(Conv2D(32, 3, padding='same', strides=2,\n",
        "                   input_shape=(28, 28, 1)))\n",
        "    cnn.add(LeakyReLU(0.2))\n",
        "    cnn.add(Dropout(0.3))\n",
        "\n",
        "    cnn.add(Conv2D(64, 3, padding='same', strides=1))\n",
        "    cnn.add(LeakyReLU(0.2))\n",
        "    cnn.add(Dropout(0.3))\n",
        "\n",
        "    cnn.add(Conv2D(128, 3, padding='same', strides=2))\n",
        "    cnn.add(LeakyReLU(0.2))\n",
        "    cnn.add(Dropout(0.3))\n",
        "\n",
        "    cnn.add(Conv2D(256, 3, padding='same', strides=1))\n",
        "    cnn.add(LeakyReLU(0.2))\n",
        "    cnn.add(Dropout(0.3))\n",
        "\n",
        "    cnn.add(Flatten())\n",
        "\n",
        "    image = Input(shape=(28, 28, 1))\n",
        "\n",
        "    features = cnn(image)\n",
        "\n",
        "    # first output (name=generation) is whether or not the discriminator\n",
        "    # thinks the image that is being shown is fake, and the second output\n",
        "    # (name=auxiliary) is the class that the discriminator thinks the image\n",
        "    # belongs to.\n",
        "    fake = Dense(1, activation='sigmoid', name='generation')(features)\n",
        "    aux = Dense(num_classes, activation='softmax', name='auxiliary')(features)\n",
        "\n",
        "    return Model(image, [fake, aux])"
      ],
      "execution_count": 0,
      "outputs": []
    },
    {
      "metadata": {
        "id": "CFcYVWoZ7y-2",
        "colab_type": "code",
        "colab": {}
      },
      "cell_type": "code",
      "source": [
        "# batch and latent size taken from the paper\n",
        "epochs = 10\n",
        "batch_size = 100\n",
        "latent_size = 100\n",
        "\n",
        "# Adam parameters suggested in https://arxiv.org/abs/1511.06434\n",
        "adam_lr = 0.0002\n",
        "adam_beta_1 = 0.5"
      ],
      "execution_count": 0,
      "outputs": []
    },
    {
      "metadata": {
        "id": "r9WhVWG4Oc4D",
        "colab_type": "code",
        "outputId": "99c92840-e525-4e56-bd49-d16617c2dd73",
        "colab": {
          "base_uri": "https://localhost:8080/",
          "height": 747
        }
      },
      "cell_type": "code",
      "source": [
        "# build the discriminator\n",
        "print('Discriminator model:')\n",
        "discriminator = build_discriminator()\n",
        "discriminator.compile(\n",
        "    optimizer=Adam(lr=adam_lr, beta_1=adam_beta_1),\n",
        "    loss=['binary_crossentropy', 'sparse_categorical_crossentropy']\n",
        ")\n",
        "discriminator.summary()\n",
        "\n",
        "# build the generator\n",
        "generator = build_generator(latent_size)\n",
        "generator.summary()"
      ],
      "execution_count": 0,
      "outputs": [
        {
          "output_type": "stream",
          "text": [
            "Discriminator model:\n",
            "WARNING:tensorflow:From /usr/local/lib/python3.6/dist-packages/tensorflow/python/framework/op_def_library.py:263: colocate_with (from tensorflow.python.framework.ops) is deprecated and will be removed in a future version.\n",
            "Instructions for updating:\n",
            "Colocations handled automatically by placer.\n",
            "WARNING:tensorflow:From /usr/local/lib/python3.6/dist-packages/keras/backend/tensorflow_backend.py:3445: calling dropout (from tensorflow.python.ops.nn_ops) with keep_prob is deprecated and will be removed in a future version.\n",
            "Instructions for updating:\n",
            "Please use `rate` instead of `keep_prob`. Rate should be set to `rate = 1 - keep_prob`.\n",
            "__________________________________________________________________________________________________\n",
            "Layer (type)                    Output Shape         Param #     Connected to                     \n",
            "==================================================================================================\n",
            "input_1 (InputLayer)            (None, 28, 28, 1)    0                                            \n",
            "__________________________________________________________________________________________________\n",
            "sequential_1 (Sequential)       (None, 12544)        387840      input_1[0][0]                    \n",
            "__________________________________________________________________________________________________\n",
            "generation (Dense)              (None, 1)            12545       sequential_1[1][0]               \n",
            "__________________________________________________________________________________________________\n",
            "auxiliary (Dense)               (None, 10)           125450      sequential_1[1][0]               \n",
            "==================================================================================================\n",
            "Total params: 525,835\n",
            "Trainable params: 525,835\n",
            "Non-trainable params: 0\n",
            "__________________________________________________________________________________________________\n",
            "__________________________________________________________________________________________________\n",
            "Layer (type)                    Output Shape         Param #     Connected to                     \n",
            "==================================================================================================\n",
            "input_3 (InputLayer)            (None, 1)            0                                            \n",
            "__________________________________________________________________________________________________\n",
            "input_2 (InputLayer)            (None, 100)          0                                            \n",
            "__________________________________________________________________________________________________\n",
            "embedding_1 (Embedding)         (None, 1, 100)       1000        input_3[0][0]                    \n",
            "__________________________________________________________________________________________________\n",
            "multiply_1 (Multiply)           (None, 1, 100)       0           input_2[0][0]                    \n",
            "                                                                 embedding_1[0][0]                \n",
            "__________________________________________________________________________________________________\n",
            "sequential_2 (Sequential)       (None, 28, 28, 1)    2656897     multiply_1[0][0]                 \n",
            "==================================================================================================\n",
            "Total params: 2,657,897\n",
            "Trainable params: 2,657,321\n",
            "Non-trainable params: 576\n",
            "__________________________________________________________________________________________________\n"
          ],
          "name": "stdout"
        }
      ]
    },
    {
      "metadata": {
        "id": "tE1k6wFu8zjq",
        "colab_type": "code",
        "outputId": "458844f5-ed1b-4370-94c1-7c29a51a4081",
        "colab": {
          "base_uri": "https://localhost:8080/",
          "height": 318
        }
      },
      "cell_type": "code",
      "source": [
        "latent = Input(shape=(latent_size, ))\n",
        "image_class = Input(shape=(1,), dtype='int32')\n",
        "\n",
        "# get a fake image\n",
        "fake = generator([latent, image_class])\n",
        "\n",
        "# we only want to be able to train generation for the combined model\n",
        "discriminator.trainable = False\n",
        "fake, aux = discriminator(fake)\n",
        "combined = Model([latent, image_class], [fake, aux])\n",
        "\n",
        "print('Combined model:')\n",
        "combined.compile(\n",
        "    optimizer=Adam(lr=adam_lr, beta_1=adam_beta_1),\n",
        "    loss=['binary_crossentropy', 'sparse_categorical_crossentropy']\n",
        ")\n",
        "combined.summary()"
      ],
      "execution_count": 0,
      "outputs": [
        {
          "output_type": "stream",
          "text": [
            "Combined model:\n",
            "__________________________________________________________________________________________________\n",
            "Layer (type)                    Output Shape         Param #     Connected to                     \n",
            "==================================================================================================\n",
            "input_4 (InputLayer)            (None, 100)          0                                            \n",
            "__________________________________________________________________________________________________\n",
            "input_5 (InputLayer)            (None, 1)            0                                            \n",
            "__________________________________________________________________________________________________\n",
            "model_2 (Model)                 (None, 28, 28, 1)    2657897     input_4[0][0]                    \n",
            "                                                                 input_5[0][0]                    \n",
            "__________________________________________________________________________________________________\n",
            "model_1 (Model)                 [(None, 1), (None, 1 525835      model_2[1][0]                    \n",
            "==================================================================================================\n",
            "Total params: 3,183,732\n",
            "Trainable params: 2,657,321\n",
            "Non-trainable params: 526,411\n",
            "__________________________________________________________________________________________________\n"
          ],
          "name": "stdout"
        }
      ]
    },
    {
      "metadata": {
        "id": "BV3RrGgJQeV3",
        "colab_type": "text"
      },
      "cell_type": "markdown",
      "source": [
        "Data curation:\n"
      ]
    },
    {
      "metadata": {
        "id": "jwcP2JLXQYGw",
        "colab_type": "code",
        "outputId": "d387885e-e920-43e6-f2d5-5914ed395f11",
        "colab": {
          "base_uri": "https://localhost:8080/",
          "height": 105
        }
      },
      "cell_type": "code",
      "source": [
        "lang_list=['Kannada', 'Tamil', 'Gujarati', 'Malayalam', 'Devanagari']\n",
        "for lang_iter,lang in enumerate(lang_list):\n",
        "  print(lang_iter)"
      ],
      "execution_count": 0,
      "outputs": [
        {
          "output_type": "stream",
          "text": [
            "0\n",
            "1\n",
            "2\n",
            "3\n",
            "4\n"
          ],
          "name": "stdout"
        }
      ]
    },
    {
      "metadata": {
        "id": "aZLvcQOyvS34",
        "colab_type": "code",
        "colab": {}
      },
      "cell_type": "code",
      "source": [
        "epochs=10\n",
        "X_elastic_all=np.load('X_elastic_all_Uniform.npy')"
      ],
      "execution_count": 0,
      "outputs": []
    },
    {
      "metadata": {
        "id": "Yv27bsasQYJo",
        "colab_type": "code",
        "outputId": "fcecbb33-4ffb-48b2-bf26-140fa7c2a323",
        "colab": {
          "base_uri": "https://localhost:8080/",
          "height": 374
        }
      },
      "cell_type": "code",
      "source": [
        "# Iterate through all the languages\n",
        "for lang_iter,lang in enumerate(lang_list):\n",
        "  print(lang)\n",
        "\n",
        "  X_elastic_lang=X_elastic_all[:,10*lang_iter:10*(lang_iter+1),:,:,0]\n",
        "  x_k=X_elastic_lang.reshape(60000, 28, 28)\n",
        "  x_train=x_k[0:50000,:,:]\n",
        "  x_test=x_k[50000:,:,:]\n",
        "  y_k=np.tile(np.arange(10),6000)\n",
        "  y_train=y_k[0:50000]\n",
        "  y_test=y_k[50000:]\n",
        "\n",
        "\n",
        "  x_train = (x_train.astype(np.float32) - 127.5) / 127.5\n",
        "  x_train = np.expand_dims(x_train, axis=-1)\n",
        "\n",
        "  x_test = (x_test.astype(np.float32) - 127.5) / 127.5\n",
        "  x_test = np.expand_dims(x_test, axis=-1)\n",
        "\n",
        "  num_train, num_test = x_train.shape[0], x_test.shape[0]\n",
        "\n",
        "  train_history = defaultdict(list)\n",
        "  test_history = defaultdict(list)\n",
        "\n",
        "  for epoch in range(1, epochs + 1): \n",
        "    print('Epoch {}/{}'.format(epoch, epochs))\n",
        "\n",
        "    num_batches = int(np.ceil(x_train.shape[0] / float(batch_size)))\n",
        "    progress_bar = Progbar(target=num_batches)\n",
        "\n",
        "    epoch_gen_loss = []\n",
        "    epoch_disc_loss = []\n",
        "\n",
        "    for index in range(num_batches):\n",
        "        # get a batch of real images\n",
        "        image_batch = x_train[index * batch_size:(index + 1) * batch_size]\n",
        "        label_batch = y_train[index * batch_size:(index + 1) * batch_size]\n",
        "\n",
        "        # generate a new batch of noise\n",
        "        noise = np.random.uniform(-1, 1, (len(image_batch), latent_size))\n",
        "\n",
        "        # sample some labels from p_c\n",
        "        sampled_labels = np.random.randint(0, num_classes, len(image_batch))\n",
        "\n",
        "        # generate a batch of fake images, using the generated labels as a\n",
        "        # conditioner. We reshape the sampled labels to be\n",
        "        # (len(image_batch), 1) so that we can feed them into the embedding\n",
        "        # layer as a length one sequence\n",
        "        generated_images = generator.predict(\n",
        "            [noise, sampled_labels.reshape((-1, 1))], verbose=0)\n",
        "\n",
        "        x = np.concatenate((image_batch, generated_images))\n",
        "\n",
        "        # use one-sided soft real/fake labels\n",
        "        # Salimans et al., 2016\n",
        "        # https://arxiv.org/pdf/1606.03498.pdf (Section 3.4)\n",
        "        soft_zero, soft_one = 0, 0.95\n",
        "        y = np.array(\n",
        "            [soft_one] * len(image_batch) + [soft_zero] * len(image_batch))\n",
        "        aux_y = np.concatenate((label_batch, sampled_labels), axis=0)\n",
        "\n",
        "        # we don't want the discriminator to also maximize the classification\n",
        "        # accuracy of the auxiliary classifier on generated images, so we\n",
        "        # don't train discriminator to produce class labels for generated\n",
        "        # images (see https://openreview.net/forum?id=rJXTf9Bxg).\n",
        "        # To preserve sum of sample weights for the auxiliary classifier,\n",
        "        # we assign sample weight of 2 to the real images.\n",
        "        disc_sample_weight = [np.ones(2 * len(image_batch)),\n",
        "                              np.concatenate((np.ones(len(image_batch)) * 2,\n",
        "                                              np.zeros(len(image_batch))))]\n",
        "\n",
        "        # see if the discriminator can figure itself out...\n",
        "        epoch_disc_loss.append(discriminator.train_on_batch(\n",
        "            x, [y, aux_y], sample_weight=disc_sample_weight))\n",
        "\n",
        "        # make new noise. we generate 2 * batch size here such that we have\n",
        "        # the generator optimize over an identical number of images as the\n",
        "        # discriminator\n",
        "        noise = np.random.uniform(-1, 1, (2 * len(image_batch), latent_size))\n",
        "        sampled_labels = np.random.randint(0, num_classes, 2 * len(image_batch))\n",
        "\n",
        "        # we want to train the generator to trick the discriminator\n",
        "        # For the generator, we want all the {fake, not-fake} labels to say\n",
        "        # not-fake\n",
        "        trick = np.ones(2 * len(image_batch)) * soft_one\n",
        "\n",
        "        epoch_gen_loss.append(combined.train_on_batch(\n",
        "            [noise, sampled_labels.reshape((-1, 1))],\n",
        "            [trick, sampled_labels]))\n",
        "\n",
        "        progress_bar.update(index + 1)\n",
        "\n",
        "    print('Testing for epoch {}:'.format(epoch))\n",
        "\n",
        "    # evaluate the testing loss here\n",
        "    # generate a new batch of noise\n",
        "    noise = np.random.uniform(-1, 1, (num_test, latent_size))\n",
        "\n",
        "    # sample some labels from p_c and generate images from them\n",
        "    sampled_labels = np.random.randint(0, num_classes, num_test)\n",
        "    generated_images = generator.predict(\n",
        "        [noise, sampled_labels.reshape((-1, 1))], verbose=False)\n",
        "\n",
        "    x = np.concatenate((x_test, generated_images))\n",
        "    y = np.array([1] * num_test + [0] * num_test)\n",
        "    aux_y = np.concatenate((y_test, sampled_labels), axis=0)\n",
        "\n",
        "    # see if the discriminator can figure itself out...\n",
        "    discriminator_test_loss = discriminator.evaluate(\n",
        "        x, [y, aux_y], verbose=False)\n",
        "\n",
        "    discriminator_train_loss = np.mean(np.array(epoch_disc_loss), axis=0)\n",
        "\n",
        "    # make new noise\n",
        "    noise = np.random.uniform(-1, 1, (2 * num_test, latent_size))\n",
        "    sampled_labels = np.random.randint(0, num_classes, 2 * num_test)\n",
        "\n",
        "    trick = np.ones(2 * num_test)\n",
        "\n",
        "    generator_test_loss = combined.evaluate(\n",
        "        [noise, sampled_labels.reshape((-1, 1))],\n",
        "        [trick, sampled_labels], verbose=False)\n",
        "\n",
        "    generator_train_loss = np.mean(np.array(epoch_gen_loss), axis=0)\n",
        "\n",
        "    # generate an epoch report on performance\n",
        "    train_history['generator'].append(generator_train_loss)\n",
        "    train_history['discriminator'].append(discriminator_train_loss)\n",
        "\n",
        "    test_history['generator'].append(generator_test_loss)\n",
        "    test_history['discriminator'].append(discriminator_test_loss)\n",
        "\n",
        "    print('{0:<22s} | {1:4s} | {2:15s} | {3:5s}'.format(\n",
        "        'component', *discriminator.metrics_names))\n",
        "    print('-' * 65)\n",
        "\n",
        "    ROW_FMT = '{0:<22s} | {1:<4.2f} | {2:<15.4f} | {3:<5.4f}'\n",
        "    print(ROW_FMT.format('generator (train)',\n",
        "                         *train_history['generator'][-1]))\n",
        "    print(ROW_FMT.format('generator (test)',\n",
        "                         *test_history['generator'][-1]))\n",
        "    print(ROW_FMT.format('discriminator (train)',\n",
        "                         *train_history['discriminator'][-1]))\n",
        "    print(ROW_FMT.format('discriminator (test)',\n",
        "                         *test_history['discriminator'][-1]))\n",
        "\n",
        "    # save weights every epoch\n",
        "    g_name='ACGAN/'+lang+'_params_generator_epoch_{0:03d}.hdf5'.format(epoch)\n",
        "    d_name='ACGAN/'+lang+'_params_discriminator_epoch_{0:03d}.hdf5'.format(epoch)\n",
        "    generator.save_weights(g_name, True)\n",
        "    discriminator.save_weights(d_name, True)\n",
        "\n",
        "    # generate some digits to display\n",
        "    num_rows = 40\n",
        "    noise = np.tile(np.random.uniform(-1, 1, (num_rows, latent_size)),\n",
        "                    (num_classes, 1))\n",
        "\n",
        "    sampled_labels = np.array([\n",
        "        [i] * num_rows for i in range(num_classes)\n",
        "    ]).reshape(-1, 1)\n",
        "    # HERE!\n",
        "    # get a batch to display\n",
        "    generated_images = generator.predict(\n",
        "        [noise, sampled_labels], verbose=0)\n",
        "\n",
        "    # prepare real images sorted by class label\n",
        "    real_labels = y_train[(epoch - 1) * num_rows * num_classes:\n",
        "                          epoch * num_rows * num_classes]\n",
        "    indices = np.argsort(real_labels, axis=0)\n",
        "    real_images = x_train[(epoch - 1) * num_rows * num_classes:\n",
        "                          epoch * num_rows * num_classes][indices]\n",
        "\n",
        "    # display generated images, white separator, real images\n",
        "    img = np.concatenate(\n",
        "        (generated_images,\n",
        "         np.repeat(np.ones_like(x_train[:1]), num_rows, axis=0),\n",
        "         real_images))\n",
        "\n",
        "    # arrange them into a grid\n",
        "    img = (np.concatenate([r.reshape(-1, 28)\n",
        "                           for r in np.split(img, 2 * num_classes + 1)\n",
        "                           ], axis=-1) * 127.5 + 127.5).astype(np.uint8)\n",
        "\n",
        "    plt_name='ACGAN/'+lang+'_plot_epoch_{0:03d}_generated.png'.format(epoch)\n",
        "    Image.fromarray(img).save(plt_name)\n",
        "\n",
        "    with open('ACGAN/'+lang+'_acgan-history.pkl', 'wb') as f:\n",
        "        pickle.dump({'train': train_history, 'test': test_history}, f)\n",
        "    ###########################\n",
        "    ###########################\n",
        "    n_rows_final=6000\n",
        "    noise = np.tile(np.random.uniform(-1, 1, (n_rows_final, latent_size)), (num_classes, 1))\n",
        "    sampled_labels = np.array([\n",
        "        [i] * n_rows_final for i in range(num_classes)\n",
        "    ]).reshape(-1, 1)\n",
        "    generated_images = generator.predict(\n",
        "        [noise, sampled_labels], verbose=1)\n",
        "    np.save('X_gan_'+lang+'.npy',generated_images)\n",
        "    ###########################\n",
        "    ###########################\n"
      ],
      "execution_count": 0,
      "outputs": [
        {
          "output_type": "stream",
          "text": [
            "Kannada\n",
            "Epoch 1/10\n",
            "WARNING:tensorflow:From /usr/local/lib/python3.6/dist-packages/tensorflow/python/ops/math_ops.py:3066: to_int32 (from tensorflow.python.ops.math_ops) is deprecated and will be removed in a future version.\n",
            "Instructions for updating:\n",
            "Use tf.cast instead.\n"
          ],
          "name": "stdout"
        },
        {
          "output_type": "stream",
          "text": [
            "/usr/local/lib/python3.6/dist-packages/keras/engine/training.py:490: UserWarning: Discrepancy between trainable weights and collected trainable weights, did you set `model.trainable` without calling `model.compile` after ?\n",
            "  'Discrepancy between trainable weights and collected trainable'\n"
          ],
          "name": "stderr"
        },
        {
          "output_type": "stream",
          "text": [
            "500/500 [==============================] - 77s 154ms/step\n",
            "Testing for epoch 1:\n",
            "component              | loss | generation_loss | auxiliary_loss\n",
            "-----------------------------------------------------------------\n",
            "generator (train)      | 1.32 | 0.9201          | 0.4047\n",
            "generator (test)       | 0.65 | 0.6400          | 0.0098\n",
            "discriminator (train)  | 0.86 | 0.6595          | 0.1983\n",
            "discriminator (test)   | 0.66 | 0.6536          | 0.0069\n",
            "60000/60000 [==============================] - 14s 236us/step\n",
            "Epoch 2/10\n",
            "500/500 [==============================] - 72s 144ms/step\n",
            "Testing for epoch 2:\n"
          ],
          "name": "stdout"
        }
      ]
    }
  ]
}